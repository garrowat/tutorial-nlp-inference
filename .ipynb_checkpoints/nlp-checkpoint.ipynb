{
 "cells": [
  {
   "cell_type": "markdown",
   "metadata": {},
   "source": [
    "# How I served a simple proverb generating Neural Network using PyTorch, fast.ai, and Flask\n",
    "\n",
    "## The Problem: How could I share my friendly AI with the world?\n",
    "\n",
    "I'd just finished training my shiny new neural network on about ~10000 proverbs, and it was working! My very first solo AI language model, ready to inspire humanity. I was feeling great! \n",
    "\n",
    "But my neural net lived only in my Jupyter notebook, not ideal for sharing with friends & fam. How could I serve up my PyTorch model for the web? To the Google!"
   ]
  },
  {
   "cell_type": "markdown",
   "metadata": {},
   "source": [
    "### Solution 1: Convert from PyTorch to Tensorflow via ONNX and then Serve (Boo!)\n",
    "At first, I thought it would be easiest to export and convert my model via ONNX over to Tensorflow, after which I would serve it up using Tensorflow.js. It turned out (at the time, at least) that exporting PyTorch models with ONNX had some [limitations](https://pytorch.org/docs/stable/onnx.html#limitations) which applied to me. Okay, so I'd have to stick with PyTorch. (In the end, I'm glad I did!)\n",
    "\n",
    "### Solution 2:  Use Python to create an API for my model (Winner!)\n",
    "I would just have to find a Python library that I could use to create a simple web API, and then a place to host it. I'd played around a bit with Django, but from what I'd read, it might be a bit heavy for the task at hand. I knew that Flask was a light-weight alternative, and some quick research turned up a trove of tutorials on how to create a REST API using Flask--***Bingo!***"
   ]
  },
  {
   "cell_type": "markdown",
   "metadata": {},
   "source": [
    "## Horse Before Cart\n",
    "So I had my general solution mapped out:\n",
    "`[Flask API w/ Model] <---> [Web App]`\n",
    "\n",
    "Simple enough! But before I start crafting the Python file that would become my API, I needed to make sure that my language model could infer on a **cpu-only** machine, for affordability's sake. Basically, any `cuda()` tensors would need to be converted to `cpu()` tensors. This proved to be my biggest headache, one where I had to babystep my way toward the solution."
   ]
  },
  {
   "cell_type": "markdown",
   "metadata": {},
   "source": [
    "## Architecture & Weights: Gotta Keep 'em Separated\n",
    "\n",
    "Exporting the model came with a soft rule: **don't save & export the whole trained model.** It's possible to do so, but not recommended. Instead, only the model weights, or *state dictionary*, should be saved and then loaded.\n",
    "\n",
    "In summary, three things were required before I could ask the model to deliver some sweet sweet wisdom:\n",
    "1. On the GPU training machine: export *only* the weights--without the architecture--from the trained model\n",
    "2. On the CPU inference machine: define the architecture of the language model\n",
    "3. Load the weights I saved from the trained model into this architecture \n",
    "\n",
    "### Saving the State Dictionary, or 'Weights'\n",
    "One of the problems I had at first was that I trying to export the entire model, architecture and all, using `torch.save()` instead of exporting only the weights (what the model 'learned') via `torch.save(model.state_dict(), \"./model\")`.\n",
    "\n",
    "So, for those who've got a PyTorch model trained and ready to be saved, you can do what I did and run:\n",
    "`torch.saved(my_trained_nlp_model.state_dict(), \"./nlp_model_dict\")`\n",
    "\n",
    "My model's weights were saved. Glorious! But I wasn't quite ready to import them. FIrst, I had to define the LSTM model architecture and prepare it to receive the weights."
   ]
  },
  {
   "cell_type": "markdown",
   "metadata": {},
   "source": [
    "## Calling in the Cavalry\n",
    "\n",
    "Because I'd used them to train my neural net, I needed fastai and torchtext for inference. Installing Conda and fastai took a while, but I ended up with a nice environment ready to go.\n",
    "\n",
    "fast.ai installation instructions here: [https://github.com/fastai/fastai](https://github.com/fastai/fastai)\n",
    "\n",
    "With that out of the way, I created my `zeno.py` file and imported some tools:"
   ]
  },
  {
   "cell_type": "code",
   "execution_count": null,
   "metadata": {},
   "outputs": [],
   "source": [
    "from fastai.nlp import *\n",
    "from fastai.lm_rnn import *\n",
    "from fastai import sgdr\n",
    "from torchtext import vocab, data"
   ]
  },
  {
   "cell_type": "markdown",
   "metadata": {},
   "source": [
    "Next I defined the class for the LSTM model, exactly as it was defined when training the model.\n",
    "\n",
    "*You can see the explanation for this in lessons 6 & 7 of fast.ai where you get to create various types of RNNs from scratch. LSTM is the final type of neural net in the lesson.*"
   ]
  },
  {
   "cell_type": "code",
   "execution_count": 27,
   "metadata": {},
   "outputs": [],
   "source": [
    "class CharSeqStatefulLSTM(nn.Module):\n",
    "    def __init__(self, vocab_size, n_fac, bs, nl):\n",
    "        super().__init__()\n",
    "        self.vocab_size,self.nl = vocab_size,nl\n",
    "        self.e = nn.Embedding(vocab_size, n_fac)\n",
    "        self.rnn = nn.LSTM(n_fac, n_hidden, nl, dropout=0.5)\n",
    "        self.l_out = nn.Linear(n_hidden, vocab_size)\n",
    "        self.init_hidden(bs)\n",
    "        \n",
    "    def forward(self, cs, **kwargs):\n",
    "        bs = cs[0].size(0)\n",
    "        if self.h[0].size(1) != bs: self.init_hidden(bs)\n",
    "        self.rnn.flatten_parameters()\n",
    "        self.h = (self.h[0].cpu(), self.h[1].cpu())\n",
    "        ecs = self.e(cs)\n",
    "        outp,h = self.rnn(ecs, self.h)\n",
    "        return F.log_softmax(self.l_out(outp), dim=-1).view(-1, self.vocab_size)\n",
    "    \n",
    "    def init_hidden(self, bs):\n",
    "        self.h = (V(torch.zeros(self.nl, bs, n_hidden)),\n",
    "                  V(torch.zeros(self.nl, bs, n_hidden)))"
   ]
  },
  {
   "cell_type": "markdown",
   "metadata": {},
   "source": [
    "Paths to training data need to be set for when the NLP model data is defined below.\n",
    "\n",
    "As far as I know, this is necessary because I need to build the language model's vocabulary before I can import my trained model."
   ]
  },
  {
   "cell_type": "code",
   "execution_count": null,
   "metadata": {},
   "outputs": [],
   "source": [
    "PATH='data/proverbs/'\n",
    "TRN_PATH = 'train/'\n",
    "VAL_PATH = 'valid/'\n",
    "TRN = PATH + TRN_PATH\n",
    "VAL = PATH + VAL_PATH"
   ]
  },
  {
   "cell_type": "code",
   "execution_count": null,
   "metadata": {},
   "outputs": [],
   "source": [
    "PATH, TRN, VAL"
   ]
  },
  {
   "cell_type": "code",
   "execution_count": null,
   "metadata": {},
   "outputs": [],
   "source": [
    "TEXT = data.Field(lower=True, tokenize=list)\n",
    "bs=64; bptt=8; n_fac=42; n_hidden=512\n",
    "\n",
    "TEXT"
   ]
  },
  {
   "cell_type": "code",
   "execution_count": null,
   "metadata": {},
   "outputs": [],
   "source": [
    "FILES = dict(train=TRN_PATH, validation=VAL_PATH, test=VAL_PATH)\n",
    "md = LanguageModelData.from_text_files(PATH, TEXT, **FILES, bs=bs, bptt=bptt, min_freq=3)"
   ]
  },
  {
   "cell_type": "code",
   "execution_count": 32,
   "metadata": {},
   "outputs": [
    {
     "data": {
      "text/plain": [
       "<fastai.nlp.LanguageModelData at 0x2048f234048>"
      ]
     },
     "execution_count": 32,
     "metadata": {},
     "output_type": "execute_result"
    }
   ],
   "source": [
    "md"
   ]
  },
  {
   "cell_type": "code",
   "execution_count": 33,
   "metadata": {},
   "outputs": [],
   "source": [
    "m = CharSeqStatefulLSTM(md.nt, n_fac, 256, 2)\n"
   ]
  },
  {
   "cell_type": "code",
   "execution_count": 34,
   "metadata": {},
   "outputs": [],
   "source": [
    "m.load_state_dict(torch.load(f'{PATH}models/gen_2_dict', map_location=lambda storage, loc: storage))\n"
   ]
  },
  {
   "cell_type": "code",
   "execution_count": 35,
   "metadata": {},
   "outputs": [],
   "source": [
    "m = m.cpu()\n"
   ]
  },
  {
   "cell_type": "code",
   "execution_count": 36,
   "metadata": {},
   "outputs": [
    {
     "data": {
      "text/plain": [
       "CharSeqStatefulLSTM(\n",
       "  (e): Embedding(59, 42)\n",
       "  (rnn): LSTM(42, 512, num_layers=2, dropout=0.5)\n",
       "  (l_out): Linear(in_features=512, out_features=59, bias=True)\n",
       ")"
      ]
     },
     "execution_count": 36,
     "metadata": {},
     "output_type": "execute_result"
    }
   ],
   "source": [
    "m.eval()"
   ]
  },
  {
   "cell_type": "code",
   "execution_count": 39,
   "metadata": {},
   "outputs": [],
   "source": [
    "def get_next(inp):\n",
    "    idxs = TEXT.numericalize(inp, device=-1)\n",
    "    pid = idxs.transpose(0,1)\n",
    "    pid = pid.cpu()\n",
    "    vpid = VV(pid)\n",
    "    vpid = vpid.cpu()\n",
    "    p = m(vpid)\n",
    "    r = torch.multinomial(p[-1].exp(), 1)\n",
    "    return TEXT.vocab.itos[to_np(r)[0]]"
   ]
  },
  {
   "cell_type": "code",
   "execution_count": 41,
   "metadata": {},
   "outputs": [
    {
     "data": {
      "text/plain": [
       "'t'"
      ]
     },
     "execution_count": 41,
     "metadata": {},
     "output_type": "execute_result"
    }
   ],
   "source": [
    "get_next('t')"
   ]
  },
  {
   "cell_type": "code",
   "execution_count": 42,
   "metadata": {},
   "outputs": [],
   "source": [
    "def get_next_n(inp, n):\n",
    "    res = inp\n",
    "    for i in range(n):\n",
    "        c = get_next(inp)\n",
    "        res += c\n",
    "        inp = inp[1:]+c\n",
    "        if c == '.': break\n",
    "    return res"
   ]
  },
  {
   "cell_type": "code",
   "execution_count": 46,
   "metadata": {},
   "outputs": [
    {
     "data": {
      "text/plain": [
       "'People are good fools.'"
      ]
     },
     "execution_count": 46,
     "metadata": {},
     "output_type": "execute_result"
    }
   ],
   "source": [
    "get_next_n('People are', 1000)"
   ]
  }
 ],
 "metadata": {
  "kernelspec": {
   "display_name": "Python 3",
   "language": "python",
   "name": "python3"
  },
  "language_info": {
   "codemirror_mode": {
    "name": "ipython",
    "version": 3
   },
   "file_extension": ".py",
   "mimetype": "text/x-python",
   "name": "python",
   "nbconvert_exporter": "python",
   "pygments_lexer": "ipython3",
   "version": "3.6.5"
  }
 },
 "nbformat": 4,
 "nbformat_minor": 2
}
